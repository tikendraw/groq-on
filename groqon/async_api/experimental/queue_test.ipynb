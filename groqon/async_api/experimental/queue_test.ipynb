{
 "cells": [
  {
   "cell_type": "code",
   "execution_count": 1,
   "metadata": {},
   "outputs": [],
   "source": [
    "import nest_asyncio\n",
    "\n",
    "nest_asyncio.apply()\n",
    "import time, random\n",
    "from pydantic import BaseModel"
   ]
  },
  {
   "cell_type": "code",
   "execution_count": 22,
   "metadata": {},
   "outputs": [
    {
     "ename": "ModuleNotFoundError",
     "evalue": "No module named 'QueueEmpty'",
     "output_type": "error",
     "traceback": [
      "\u001b[0;31m---------------------------------------------------------------------------\u001b[0m",
      "\u001b[0;31mModuleNotFoundError\u001b[0m                       Traceback (most recent call last)",
      "Cell \u001b[0;32mIn[22], line 1\u001b[0m\n\u001b[0;32m----> 1\u001b[0m \u001b[38;5;28;01mimport\u001b[39;00m \u001b[38;5;21;01masyncio\u001b[39;00m\u001b[38;5;241m,\u001b[39m \u001b[38;5;21;01mQueueEmpty\u001b[39;00m\n\u001b[1;32m      2\u001b[0m \u001b[38;5;28;01mimport\u001b[39;00m \u001b[38;5;21;01muuid\u001b[39;00m\n",
      "\u001b[0;31mModuleNotFoundError\u001b[0m: No module named 'QueueEmpty'"
     ]
    }
   ],
   "source": [
    "import asyncio\n",
    "\n",
    "import uuid"
   ]
  },
  {
   "cell_type": "code",
   "execution_count": 3,
   "metadata": {},
   "outputs": [
    {
     "data": {
      "text/plain": [
       "0.11495891351016496"
      ]
     },
     "execution_count": 3,
     "metadata": {},
     "output_type": "execute_result"
    }
   ],
   "source": [
    "random.random()"
   ]
  },
  {
   "cell_type": "code",
   "execution_count": 4,
   "metadata": {},
   "outputs": [],
   "source": [
    "time.sleep(0.1)"
   ]
  },
  {
   "cell_type": "code",
   "execution_count": 5,
   "metadata": {},
   "outputs": [],
   "source": [
    "class LL(BaseModel):\n",
    "    id: str = uuid.uuid4().hex\n",
    "    worker_id: int\n",
    "    letter: str"
   ]
  },
  {
   "cell_type": "code",
   "execution_count": 6,
   "metadata": {},
   "outputs": [],
   "source": [
    "a = LL(id=uuid.uuid4().hex, worker_id=1, letter=\"a\")"
   ]
  },
  {
   "cell_type": "code",
   "execution_count": 7,
   "metadata": {},
   "outputs": [
    {
     "data": {
      "text/plain": [
       "dict"
      ]
     },
     "execution_count": 7,
     "metadata": {},
     "output_type": "execute_result"
    }
   ],
   "source": [
    "type(a.model_dump())"
   ]
  },
  {
   "cell_type": "code",
   "execution_count": 8,
   "metadata": {},
   "outputs": [],
   "source": [
    "async def worker(word, queue, woker_id):\n",
    "    for i in word:\n",
    "        t = random.random()\n",
    "        print('worker: ', i, \" sleeping for \", t)\n",
    "        await asyncio.sleep(random.random())\n",
    "        await queue.put(\n",
    "            LL(id=uuid.uuid4().hex, worker_id=woker_id, letter=i)\n",
    "        )\n",
    "    return"
   ]
  },
  {
   "cell_type": "code",
   "execution_count": 9,
   "metadata": {},
   "outputs": [],
   "source": [
    "async def mainer():\n",
    "    queue = asyncio.Queue()\n",
    "    word = [\"hello\", \"world\", \"red\", \"blue\", \"green\"]\n",
    "    tasks = [worker(word[i], queue, i) for i in range(2)]\n",
    "    await asyncio.gather(*tasks)\n",
    "    # while not queue.empty():\n",
    "    #     print(queue.get())\n",
    "    return queue"
   ]
  },
  {
   "cell_type": "code",
   "execution_count": 10,
   "metadata": {},
   "outputs": [
    {
     "name": "stdout",
     "output_type": "stream",
     "text": [
      "worker:  h  sleeping for  0.5739210534851691\n",
      "worker:  w  sleeping for  0.44072361666164817\n",
      "worker:  e  sleeping for  0.5045108104852616\n",
      "worker:  o  sleeping for  0.6400272756464778\n",
      "worker:  l  sleeping for  0.03617773175313266\n",
      "worker:  r  sleeping for  0.9491729520935999\n",
      "worker:  l  sleeping for  0.6352896471127185\n",
      "worker:  l  sleeping for  0.41614391993496935\n",
      "worker:  d  sleeping for  0.16073162858860057\n",
      "worker:  o  sleeping for  0.12703046685091313\n"
     ]
    }
   ],
   "source": [
    "out = await mainer()"
   ]
  },
  {
   "cell_type": "code",
   "execution_count": 21,
   "metadata": {},
   "outputs": [
    {
     "ename": "QueueEmpty",
     "evalue": "",
     "output_type": "error",
     "traceback": [
      "\u001b[0;31m---------------------------------------------------------------------------\u001b[0m",
      "\u001b[0;31mQueueEmpty\u001b[0m                                Traceback (most recent call last)",
      "Cell \u001b[0;32mIn[21], line 2\u001b[0m\n\u001b[1;32m      1\u001b[0m out\u001b[38;5;241m.\u001b[39mempty()\n\u001b[0;32m----> 2\u001b[0m \u001b[38;5;28mprint\u001b[39m(\u001b[43mout\u001b[49m\u001b[38;5;241;43m.\u001b[39;49m\u001b[43mget_nowait\u001b[49m\u001b[43m(\u001b[49m\u001b[43m)\u001b[49m)\n",
      "File \u001b[0;32m~/miniconda3/lib/python3.12/asyncio/queues.py:181\u001b[0m, in \u001b[0;36mQueue.get_nowait\u001b[0;34m(self)\u001b[0m\n\u001b[1;32m    176\u001b[0m \u001b[38;5;250m\u001b[39m\u001b[38;5;124;03m\"\"\"Remove and return an item from the queue.\u001b[39;00m\n\u001b[1;32m    177\u001b[0m \n\u001b[1;32m    178\u001b[0m \u001b[38;5;124;03mReturn an item if one is immediately available, else raise QueueEmpty.\u001b[39;00m\n\u001b[1;32m    179\u001b[0m \u001b[38;5;124;03m\"\"\"\u001b[39;00m\n\u001b[1;32m    180\u001b[0m \u001b[38;5;28;01mif\u001b[39;00m \u001b[38;5;28mself\u001b[39m\u001b[38;5;241m.\u001b[39mempty():\n\u001b[0;32m--> 181\u001b[0m     \u001b[38;5;28;01mraise\u001b[39;00m QueueEmpty\n\u001b[1;32m    182\u001b[0m item \u001b[38;5;241m=\u001b[39m \u001b[38;5;28mself\u001b[39m\u001b[38;5;241m.\u001b[39m_get()\n\u001b[1;32m    183\u001b[0m \u001b[38;5;28mself\u001b[39m\u001b[38;5;241m.\u001b[39m_wakeup_next(\u001b[38;5;28mself\u001b[39m\u001b[38;5;241m.\u001b[39m_putters)\n",
      "\u001b[0;31mQueueEmpty\u001b[0m: "
     ]
    }
   ],
   "source": [
    "out.empty()\n",
    "print(out.get_nowait())"
   ]
  },
  {
   "cell_type": "code",
   "execution_count": 16,
   "metadata": {},
   "outputs": [],
   "source": [
    "# 'empty', 'full', 'get', 'get_nowait', 'join', 'maxsize', 'put', 'put_nowait', 'qsize', 'task_done'"
   ]
  },
  {
   "cell_type": "code",
   "execution_count": 14,
   "metadata": {},
   "outputs": [
    {
     "data": {
      "text/plain": [
       "0"
      ]
     },
     "execution_count": 14,
     "metadata": {},
     "output_type": "execute_result"
    }
   ],
   "source": [
    "out.maxsize"
   ]
  },
  {
   "cell_type": "code",
   "execution_count": 57,
   "metadata": {},
   "outputs": [
    {
     "name": "stdout",
     "output_type": "stream",
     "text": [
      "Produced item-0\n",
      "Produced item-1\n",
      "Consumed item-0\n",
      "Produced item-2\n",
      "Consumed item-1\n",
      "Produced item-3\n",
      "Consumed item-2\n",
      "Produced item-4\n",
      "Consumed item-3\n",
      "Produced item-5\n",
      "Consumed item-4\n",
      "Produced item-6\n",
      "Consumed item-5\n",
      "Produced item-7\n",
      "Consumed item-6\n",
      "Produced item-8\n",
      "Consumed item-7\n",
      "Produced item-9\n",
      "Consumed item-8\n",
      "Consumed item-9\n"
     ]
    }
   ],
   "source": [
    "import asyncio\n",
    "\n",
    "async def _producer(queue, n):\n",
    "    for i in range(n):\n",
    "        await asyncio.sleep(1)  # Simulate some work with a sleep\n",
    "        item = f'item-{i}'\n",
    "        await queue.put(item)\n",
    "        print(f'Produced {item}')\n",
    "        \n",
    "\n",
    "async def producer(queue, n):\n",
    "    asyncio.create_task(_producer(queue, n))\n",
    "        \n",
    "def consumer(queue):\n",
    "    asyncio.run(_consumer(queue))\n",
    "\n",
    "async def _consumer(queue):\n",
    "    while True:\n",
    "        item = await queue.get()\n",
    "        await asyncio.sleep(1)\n",
    "        if item is None:  # We use `None` to signal the consumer to stop\n",
    "            break\n",
    "        print(f'Consumed {item}')\n",
    "        queue.task_done()\n",
    "\n",
    "async def main():\n",
    "    queue = asyncio.Queue()\n",
    "    n = 10  # Number of items to produce\n",
    "\n",
    "    producer_task = asyncio.create_task(producer(queue, n))\n",
    "    consumer_task = asyncio.create_task(consumer(queue))\n",
    "\n",
    "    await producer_task\n",
    "    await queue.put(None)  # Signal the consumer to stop\n",
    "    await consumer_task\n",
    "\n",
    "# Run the main function\n",
    "asyncio.run(main())\n"
   ]
  },
  {
   "cell_type": "code",
   "execution_count": 64,
   "metadata": {},
   "outputs": [
    {
     "name": "stdout",
     "output_type": "stream",
     "text": [
      "Caller: Added task_0 to task_queue\n",
      "Caller: Added task_1 to task_queue\n",
      "Caller: Added task_2 to task_queue\n",
      "Caller: Added task_3 to task_queue\n",
      "Caller: Added task_4 to task_queue\n",
      "Listener: Performing task task_0\n",
      "Listener: Finished task task_0, result Result of task_0\n",
      "Listener: Performing task task_1\n",
      "Caller: Retrieved Result of task_0 from result_queue\n",
      "Listener: Finished task task_1, result Result of task_1\n",
      "Listener: Performing task task_2\n",
      "Caller: Retrieved Result of task_1 from result_queue\n",
      "Listener: Finished task task_2, result Result of task_2\n",
      "Listener: Performing task task_3\n",
      "Caller: Retrieved Result of task_2 from result_queue\n",
      "Listener: Finished task task_3, result Result of task_3\n",
      "Listener: Performing task task_4\n",
      "Caller: Retrieved Result of task_3 from result_queue\n",
      "Listener: Finished task task_4, result Result of task_4\n",
      "Caller: Retrieved Result of task_4 from result_queue\n",
      "All tasks completed\n",
      "Results: ['Result of task_0', 'Result of task_1', 'Result of task_2', 'Result of task_3', 'Result of task_4']\n"
     ]
    }
   ],
   "source": [
    "import asyncio\n",
    "import random\n",
    "import string\n",
    "\n",
    "# Define an asynchronous listener that constantly listens for tasks.\n",
    "async def listener(task_queue: asyncio.Queue, result_queue: asyncio.Queue):\n",
    "    while True:\n",
    "        # Wait for a task from the task_queue\n",
    "        task = await task_queue.get()\n",
    "        if task is None:\n",
    "            break  # Exit if a None task is received\n",
    "        \n",
    "        # Perform the task (simulated by sleeping for a random time)\n",
    "        print(f\"Listener: Performing task {task}\")\n",
    "        await asyncio.sleep(random.uniform(0.5, 2.0))\n",
    "        \n",
    "        # Simulate a result\n",
    "        result = f\"Result of {task}\"\n",
    "        \n",
    "        # Put the result in the result_queue\n",
    "        await result_queue.put(result)\n",
    "        print(f\"Listener: Finished task {task}, result {result}\")\n",
    "\n",
    "# Define an asynchronous caller that adds tasks to the task_queue and retrieves results from the result_queue.\n",
    "async def caller(task_queue: asyncio.Queue, result_queue: asyncio.Queue, task_id: int):\n",
    "    # Generate a task name\n",
    "    task = f\"task_{task_id}\"\n",
    "    \n",
    "    # Add the task to the task_queue\n",
    "    await task_queue.put(task)\n",
    "    print(f\"Caller: Added {task} to task_queue\")\n",
    "    \n",
    "    # Wait for the result from the result_queue\n",
    "    result = await result_queue.get()\n",
    "    print(f\"Caller: Retrieved {result} from result_queue\")\n",
    "    return result\n",
    "\n",
    "async def main():\n",
    "    # Create asyncio queues for tasks and results\n",
    "    task_queue = asyncio.Queue()\n",
    "    result_queue = asyncio.Queue()\n",
    "    \n",
    "    # Start the listener\n",
    "    listener_task = asyncio.create_task(listener(task_queue, result_queue))\n",
    "    \n",
    "    # Start multiple callers\n",
    "    callers = [caller(task_queue, result_queue, i) for i in range(5)]\n",
    "    \n",
    "    # Wait for all callers to complete\n",
    "    results = await asyncio.gather(*callers)\n",
    "    \n",
    "    # Stop the listener by adding a None task\n",
    "    await task_queue.put(None)\n",
    "    \n",
    "    # Wait for the listener to finish\n",
    "    await listener_task\n",
    "\n",
    "    print(\"All tasks completed\")\n",
    "    print(\"Results:\", results)\n",
    "\n",
    "# Run the main function\n",
    "if __name__ == \"__main__\":\n",
    "    asyncio.run(main())\n"
   ]
  },
  {
   "cell_type": "code",
   "execution_count": null,
   "metadata": {},
   "outputs": [],
   "source": []
  }
 ],
 "metadata": {
  "kernelspec": {
   "display_name": "base",
   "language": "python",
   "name": "python3"
  },
  "language_info": {
   "codemirror_mode": {
    "name": "ipython",
    "version": 3
   },
   "file_extension": ".py",
   "mimetype": "text/x-python",
   "name": "python",
   "nbconvert_exporter": "python",
   "pygments_lexer": "ipython3",
   "version": "3.12.2"
  }
 },
 "nbformat": 4,
 "nbformat_minor": 2
}
