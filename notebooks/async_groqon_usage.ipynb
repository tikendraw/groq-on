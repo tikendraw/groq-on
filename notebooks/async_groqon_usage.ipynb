{
 "cells": [
  {
   "cell_type": "markdown",
   "metadata": {},
   "source": [
    "THis is a notebook to demostrate how to use groqon asynchronously in jupyter notebooks."
   ]
  },
  {
   "cell_type": "markdown",
   "metadata": {},
   "source": [
    "groqon : [https://www.github.com/tikendraw/groq-on](https://www.github.com/tikendraw/groq-on)"
   ]
  },
  {
   "cell_type": "code",
   "execution_count": 1,
   "metadata": {},
   "outputs": [],
   "source": [
    "from nest_asyncio import apply\n",
    "\n",
    "apply()"
   ]
  },
  {
   "cell_type": "code",
   "execution_count": null,
   "metadata": {},
   "outputs": [],
   "source": [
    "import asyncio\n",
    "from groq import AsyncGroq\n",
    "\n",
    "client = AsyncGroq(\n",
    "    base_url=\"http://localhost:8080\",  # get port from web server\n",
    "    api_key=\"not required\",\n",
    ")\n",
    "\n",
    "\n",
    "async def query(prompt) -> None:\n",
    "    chat_completion = await client.chat.completions.create(\n",
    "        messages=[\n",
    "            {\n",
    "                \"role\": \"user\",\n",
    "                \"content\": prompt,\n",
    "            }\n",
    "        ],\n",
    "        model=\"llama3-8b-8192\",\n",
    "    )\n",
    "    print(\"+\" * 33)\n",
    "    print(\"PROMPT: \", prompt)\n",
    "    print(\"RESPONSE: \")\n",
    "    print(chat_completion.choices[0].message.content)\n",
    "    print(\"+\" * 33)\n",
    "\n",
    "\n",
    "async def main() -> None:\n",
    "    pr = [\n",
    "        \"What is the meaning of life?\",\n",
    "        \"What is the meaning of love?\",\n",
    "        \"What is the meaning of death?\",\n",
    "        \"What is the meaning of thought?\",\n",
    "        \"What is the meaning of respect?\",\n",
    "        \"What is the meaning of knowledge?\",\n",
    "    ]\n",
    "\n",
    "    asyncio.gather(\n",
    "        query(pr[0]),\n",
    "        query(pr[1]),\n",
    "        query(pr[2]),\n",
    "        query(pr[3]),\n",
    "        query(pr[4]),\n",
    "        query(pr[5]),\n",
    "    )\n",
    "\n",
    "\n",
    "asyncio.run(main())"
   ]
  }
 ],
 "metadata": {
  "kernelspec": {
   "display_name": "groqon-A4JUjgUu-py3.11",
   "language": "python",
   "name": "python3"
  },
  "language_info": {
   "codemirror_mode": {
    "name": "ipython",
    "version": 3
   },
   "file_extension": ".py",
   "mimetype": "text/x-python",
   "name": "python",
   "nbconvert_exporter": "python",
   "pygments_lexer": "ipython3",
   "version": "3.11.9"
  }
 },
 "nbformat": 4,
 "nbformat_minor": 2
}
