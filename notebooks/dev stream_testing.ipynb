{
 "cells": [
  {
   "cell_type": "markdown",
   "metadata": {},
   "source": [
    "This notebook is to check if streaming is working with groqon or not. (not for users)"
   ]
  },
  {
   "cell_type": "code",
   "execution_count": 7,
   "metadata": {},
   "outputs": [],
   "source": [
    "from dotenv import load_dotenv\n",
    "from groq import Groq\n",
    "import json\n",
    "import os\n",
    "import random\n"
   ]
  },
  {
   "cell_type": "code",
   "execution_count": 8,
   "metadata": {},
   "outputs": [],
   "source": [
    "client2 = Groq(\n",
    "    api_key=\"not required\",\n",
    "    base_url=\"http://localhost:8080/\",\n",
    "    timeout=30, # sometimes response generation takes time so increase the timeout to not get the timeout error early\n",
    "    )\n",
    "MODEL='llama-3.1-70b-versatile'\n"
   ]
  },
  {
   "cell_type": "code",
   "execution_count": 9,
   "metadata": {},
   "outputs": [],
   "source": [
    "def call_stream(stream=False, client=None, prompt=None, printt=True):\n",
    "    print(\"stream: \", stream)\n",
    "\n",
    "    if not prompt:\n",
    "        random_words = [\n",
    "            \"potato\",\n",
    "            \"tomato\",\n",
    "            \"banana\",\n",
    "            \"rail\",\n",
    "            \"railed\",\n",
    "            \"nutt\",\n",
    "            \"bolt\",\n",
    "            \"go\",\n",
    "            \"Elephant\",\n",
    "        ]\n",
    "        word = random.sample(random_words, 1)[0]\n",
    "        prompt = \"spell \" + word\n",
    "\n",
    "    print(f\"prompt: {prompt}\")\n",
    "    chat_completion = client.chat.completions.create(\n",
    "        messages=[\n",
    "            {\n",
    "                \"role\": \"user\",\n",
    "                \"content\": prompt,\n",
    "            }\n",
    "        ],\n",
    "        model=MODEL,\n",
    "        stream=stream,\n",
    "    )\n",
    "\n",
    "    if printt:\n",
    "        if stream:\n",
    "            for chunk in chat_completion:\n",
    "                if chunk.choices[0].delta.content is not None:\n",
    "                    print(chunk.choices[0].delta.content, end=\"\")\n",
    "        else:\n",
    "            print(chat_completion.choices[0].message.content)\n",
    "    else:\n",
    "        return chat_completion"
   ]
  },
  {
   "cell_type": "code",
   "execution_count": 10,
   "metadata": {},
   "outputs": [
    {
     "name": "stdout",
     "output_type": "stream",
     "text": [
      "stream:  True\n",
      "prompt: spell banana\n",
      "\u001b[40m\u001b[32m respnse in cnnnectin pool <Response [200] content self.content stream <httpcore._sync.http11.HTTP11ConnectionByteStream object at 0x7d262ae6cdd0>>\u001b[0m\n",
      "\u001b[40m\u001b[31m respnse in cnnnectin pool steam <httpcore._sync.http11.HTTP11ConnectionByteStream object at 0x7d262ae6cdd0>\u001b[0m\n",
      "B-A-N-A-N-A"
     ]
    }
   ],
   "source": [
    "out = call_stream(True, client2, printt=True)"
   ]
  },
  {
   "cell_type": "code",
   "execution_count": null,
   "metadata": {},
   "outputs": [],
   "source": []
  }
 ],
 "metadata": {
  "kernelspec": {
   "display_name": "groqon-A4JUjgUu-py3.11",
   "language": "python",
   "name": "python3"
  },
  "language_info": {
   "codemirror_mode": {
    "name": "ipython",
    "version": 3
   },
   "file_extension": ".py",
   "mimetype": "text/x-python",
   "name": "python",
   "nbconvert_exporter": "python",
   "pygments_lexer": "ipython3",
   "version": "3.11.9"
  }
 },
 "nbformat": 4,
 "nbformat_minor": 2
}
