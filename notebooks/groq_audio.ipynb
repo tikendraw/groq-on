{
 "cells": [
  {
   "cell_type": "code",
   "execution_count": 1,
   "metadata": {},
   "outputs": [
    {
     "data": {
      "text/plain": [
       "True"
      ]
     },
     "execution_count": 1,
     "metadata": {},
     "output_type": "execute_result"
    }
   ],
   "source": [
    "from dotenv import load_dotenv\n",
    "from groq import Groq\n",
    "import json\n",
    "import os\n",
    "import random\n",
    "\n",
    "load_dotenv()"
   ]
  },
  {
   "cell_type": "code",
   "execution_count": 2,
   "metadata": {},
   "outputs": [],
   "source": [
    "client = Groq(\n",
    "    api_key=os.environ[\"GROQ_API_KEY\"],\n",
    ")\n",
    "\n",
    "client2 = Groq(\n",
    "    api_key=\"hh\",\n",
    "    base_url=\"http://localhost:8000/\",\n",
    ")\n",
    "MODEL = \"llama3-groq-70b-8192-tool-use-preview\"\n",
    "# MODEL='llama3-8b-8192'\n",
    "# MODEL='llama-3.1-70b-versatile'\n",
    "\n"
   ]
  },
  {
   "cell_type": "code",
   "execution_count": 4,
   "metadata": {},
   "outputs": [],
   "source": [
    "def call_stream(stream=False, client=client,prompt=None, printt=True):\n",
    "    print('stream: ',stream)\n",
    "    \n",
    "    if not prompt:\n",
    "        random_words = [\"potato\", 'tomato','banana', 'rail', 'railed', 'nutt', 'bolt', 'go','Elephant']\n",
    "        word = random.sample(random_words, 1)[0]\n",
    "        prompt = 'spell ' + word\n",
    "        \n",
    "    print(f'prompt: {prompt}')\n",
    "    chat_completion = client.chat.completions.create(\n",
    "        messages=[\n",
    "            {\n",
    "                \"role\": \"user\",\n",
    "                \"content\": prompt,\n",
    "            }\n",
    "        ],\n",
    "        model=MODEL,\n",
    "        stream=stream\n",
    "    )\n",
    "\n",
    "    if printt:\n",
    "        if stream:\n",
    "            for chunk in chat_completion:\n",
    "                if chunk.choices[0].delta.content is not None:\n",
    "                    print(chunk.choices[0].delta.content, end=\"\")\n",
    "        else:\n",
    "            print(chat_completion.choices[0].message.content)\n",
    "    else:\n",
    "        return chat_completion\n",
    "    "
   ]
  },
  {
   "cell_type": "code",
   "execution_count": 13,
   "metadata": {},
   "outputs": [
    {
     "name": "stdout",
     "output_type": "stream",
     "text": [
      "\u001b[1m\u001b[5m\u001b[44m\u001b[32m respnse in cnnnectin pool <Response [307] content self.content stream <httpcore._sync.http11.HTTP11ConnectionByteStream object at 0x72ac842ec590>>\u001b[0m\n",
      "\u001b[1m\u001b[5m\u001b[44m\u001b[31m respnse in cnnnectin pool steam <httpcore._sync.http11.HTTP11ConnectionByteStream object at 0x72ac842ec590>\u001b[0m\n",
      "\u001b[1m\u001b[5m\u001b[44m\u001b[32m respnse in cnnnectin pool <Response [200] content self.content stream <httpcore._sync.http11.HTTP11ConnectionByteStream object at 0x72ac843d1c10>>\u001b[0m\n",
      "\u001b[1m\u001b[5m\u001b[44m\u001b[31m respnse in cnnnectin pool steam <httpcore._sync.http11.HTTP11ConnectionByteStream object at 0x72ac843d1c10>\u001b[0m\n",
      "None\n"
     ]
    }
   ],
   "source": [
    "\n",
    "filename = \"./me_voice.m4a\"\n",
    "\n",
    "with open(filename, \"rb\") as file:\n",
    "    transcription = client2.audio.transcriptions.create(\n",
    "      file=(filename, file.read()),\n",
    "      model=\"whisper-large-v3\",\n",
    "      prompt=\"Specify context or spelling\",  # Optional\n",
    "      response_format=\"json\",  # Optional\n",
    "      language=\"en\",  # Optional\n",
    "      temperature=0.0  # Optional\n",
    "    )\n",
    "    print(transcription.text)\n"
   ]
  },
  {
   "cell_type": "code",
   "execution_count": null,
   "metadata": {},
   "outputs": [],
   "source": []
  },
  {
   "cell_type": "code",
   "execution_count": null,
   "metadata": {},
   "outputs": [],
   "source": []
  }
 ],
 "metadata": {
  "kernelspec": {
   "display_name": "groqon-A4JUjgUu-py3.11",
   "language": "python",
   "name": "python3"
  },
  "language_info": {
   "codemirror_mode": {
    "name": "ipython",
    "version": 3
   },
   "file_extension": ".py",
   "mimetype": "text/x-python",
   "name": "python",
   "nbconvert_exporter": "python",
   "pygments_lexer": "ipython3",
   "version": "3.11.9"
  }
 },
 "nbformat": 4,
 "nbformat_minor": 2
}
